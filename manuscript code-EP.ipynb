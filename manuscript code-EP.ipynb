{
 "cells": [
  {
   "cell_type": "markdown",
   "id": "9fb2a1e9",
   "metadata": {},
   "source": [
    "# The selection of the best machine learning model from 5 models."
   ]
  },
  {
   "cell_type": "code",
   "execution_count": null,
   "id": "ab44c16b",
   "metadata": {},
   "outputs": [],
   "source": [
    "from sklearn.model_selection import cross_val_score\n",
    "from sklearn.datasets import make_blobs\n",
    "from sklearn.ensemble import RandomForestClassifier\n",
    "from sklearn.ensemble import ExtraTreesClassifier\n",
    "from sklearn.tree import DecisionTreeClassifier\n",
    "import random\n",
    "import numpy as np\n",
    "from sklearn import linear_model\n",
    "import math\n",
    "import pandas as pd"
   ]
  },
  {
   "cell_type": "code",
   "execution_count": null,
   "id": "227d2af7",
   "metadata": {},
   "outputs": [],
   "source": [
    "###### the scikit-learning regression model\n",
    "from sklearn.neural_network import MLPRegressor     # neural_network\n",
    "from sklearn import svm # SVR\n",
    "from sklearn.linear_model import LinearRegression #linear regrssion(least square regression)\n",
    "from sklearn.ensemble import RandomForestRegressor\n",
    "from sklearn.metrics import r2_score\n",
    "from sklearn.decomposition import SparsePCA\n",
    "from sklearn.decomposition import PCA\n",
    "from sklearn import preprocessing"
   ]
  },
  {
   "cell_type": "code",
   "execution_count": null,
   "id": "765a67fd",
   "metadata": {},
   "outputs": [],
   "source": [
    "from copy import deepcopy\n",
    "from sklearn.model_selection import train_test_split\n",
    "\n",
    "def criteria(pre_value,true_value):\n",
    "    pres = deepcopy(pre_value)\n",
    "    for i in range(len(pres)):\n",
    "        pres[i] = float(pres[i])\n",
    "    pres = np.array(pres)\n",
    "\n",
    "    trues = deepcopy(true_value)\n",
    "    for i in range(len(trues)):\n",
    "        trues[i] = float(trues[i])\n",
    "    trues = np.array(trues)\n",
    "\n",
    "    APE = abs(pres-trues)/trues\n",
    "    MAPE = sum(APE)/len(APE)\n",
    "    RMSE = math.sqrt((sum((pres-trues)**2))/len(pres))\n",
    "    r2 = r2_score(true_value,pre_value)\n",
    "    return MAPE, RMSE, r2"
   ]
  },
  {
   "cell_type": "code",
   "execution_count": null,
   "id": "30ad31bc",
   "metadata": {},
   "outputs": [],
   "source": [
    "from pandas import read_csv\n",
    "with open('data_32_1.csv', encoding = 'UTF-8') as f:\n",
    "    names = ['MWc', 'r', 'U', 'MC', '|Z|']\n",
    "    data = read_csv(f, names = names)\n",
    "data"
   ]
  },
  {
   "cell_type": "code",
   "execution_count": null,
   "id": "29eb8420",
   "metadata": {},
   "outputs": [],
   "source": [
    "Y = data['|Z|'].values\n",
    "\n",
    "excluded = ['|Z|']\n",
    "X = data.drop(excluded, axis = 1)\n",
    "print('There are %s possible descriptor: \\n' % X.shape[1])"
   ]
  },
  {
   "cell_type": "code",
   "execution_count": null,
   "id": "9379b72a",
   "metadata": {},
   "outputs": [],
   "source": [
    "training_results = []\n",
    "training_results.append(['actual value','ANN','SVR','LR','RF'])\n",
    "training_temp = []\n",
    "\n",
    "testing_results = []\n",
    "testing_results.append(['actual value','ANN','SVR','LR','RF'])\n",
    "testing_temp=[]"
   ]
  },
  {
   "cell_type": "code",
   "execution_count": null,
   "id": "999d3b96",
   "metadata": {},
   "outputs": [],
   "source": [
    "training_X,testing_X,training_Y,testing_Y = train_test_split(X, Y, test_size = 0.2,\n",
    "                                                    random_state = 1)\n",
    "print(training_Y)\n",
    "training_temp.append(training_Y)\n",
    "testing_temp.append(testing_Y)"
   ]
  },
  {
   "cell_type": "code",
   "execution_count": null,
   "id": "2b8437db",
   "metadata": {},
   "outputs": [],
   "source": [
    "#########################################################    RF\n",
    "clf_RF = RandomForestRegressor(n_estimators=2000,min_samples_leaf=1,max_features=2,oob_score=True)\n",
    "clf_RF.fit(training_X,training_Y)\n",
    "fit_RF = clf_RF.predict(training_X)\n",
    "pre_RF = clf_RF.predict(testing_X)\n",
    "\n",
    "training_criteria = criteria(fit_RF, training_Y)\n",
    "testing_criteria = criteria(pre_RF, testing_Y)\n",
    "print('RF training',training_criteria)\n",
    "print('RF testing', testing_criteria)\n",
    "\n",
    "training_temp.append(fit_RF)\n",
    "testing_temp.append(pre_RF)\n",
    "\n",
    "x_pre=[]\n",
    "y_pre=[]\n",
    "with open('data_32_2.csv', encoding = 'UTF-8')as f:\n",
    "    names = ['MWc', 'r', 'U', 'MC']\n",
    "    x_pre = read_csv(f, names = names)\n",
    "y_pre=clf_RF.predict(x_pre)\n",
    "\n",
    "print(x_pre,y_pre)"
   ]
  },
  {
   "cell_type": "code",
   "execution_count": null,
   "id": "de6cea9c",
   "metadata": {},
   "outputs": [],
   "source": [
    "from sklearn.model_selection import KFold, cross_val_score\n",
    "\n",
    "crossvalidation = KFold(n_splits = 10, shuffle = True)\n",
    "mape_scores = cross_val_score(clf_RF, X, Y, scoring = 'neg_mean_absolute_percentage_error', cv = crossvalidation)\n",
    "r2_scores = cross_val_score(clf_RF, X, Y, scoring = 'r2', cv = crossvalidation)\n",
    "rmse_scores = cross_val_score(clf_RF, X, Y, scoring = 'neg_root_mean_squared_error', cv = crossvalidation)\n",
    "print('Cross-validation results:')\n",
    "print('Folds: %i, mean MAPE: %.3f' % (len(mape_scores), -np.mean(mape_scores)))\n",
    "print('Folds: %i, mean R2: %.3f' % (len(r2_scores), np.mean(r2_scores)))\n",
    "print('Folds: %i, mean RMSE: %.3f' % (len(rmse_scores), -np.mean(rmse_scores)))"
   ]
  },
  {
   "cell_type": "code",
   "execution_count": null,
   "id": "0e3ae687",
   "metadata": {},
   "outputs": [],
   "source": [
    "from sklearn.model_selection import cross_val_predict\n",
    "y_cv = cross_val_predict(clf_RF, X, Y, cv = crossvalidation)\n",
    "print(Y, y_cv)"
   ]
  },
  {
   "cell_type": "code",
   "execution_count": null,
   "id": "82320682",
   "metadata": {},
   "outputs": [],
   "source": [
    "plt.figure(figsize = (5, 5))\n",
    "plt.plot([3, 12], [3, 12], 'r--')\n",
    "plt.scatter(Y, y_cv, s = 80, edgecolor = 'r', alpha = 0.7)"
   ]
  },
  {
   "cell_type": "code",
   "execution_count": null,
   "id": "98c71cb4",
   "metadata": {},
   "outputs": [],
   "source": [
    "training_temp = (np.array(training_temp).T.tolist())\n",
    "testing_temp = (np.array(testing_temp).T.tolist())\n",
    "\n",
    "paper_result = pd.DataFrame(training_temp)\n",
    "paper_result.to_csv('training_32_RF.csv')\n",
    "testing_result = pd.DataFrame(testing_temp)\n",
    "testing_result.to_csv('testing_32_RF.csv')"
   ]
  },
  {
   "cell_type": "code",
   "execution_count": null,
   "id": "b642e496",
   "metadata": {},
   "outputs": [],
   "source": [
    "###########################################################   LR\n",
    "clf_LR = LinearRegression()\n",
    "clf_LR.fit(training_X,training_Y)\n",
    "fit_LR = clf_LR.predict(training_X)\n",
    "pre_LR = clf_LR.predict(testing_X)\n",
    "\n",
    "training_criteria = criteria(fit_LR, training_Y)\n",
    "testing_criteria = criteria(pre_LR, testing_Y)\n",
    "print('LR training',training_criteria)\n",
    "print('LR testing', testing_criteria)\n",
    "\n",
    "training_temp.append(fit_LR)\n",
    "testing_temp.append(pre_LR)\n",
    "\n",
    "x_pre=[]\n",
    "y_pre=[]\n",
    "with open('data_32_2.csv', encoding = 'UTF-8')as f:\n",
    "    names = ['MWc', 'r', 'U', 'MC']\n",
    "    x_pre = read_csv(f, names = names)\n",
    "y_pre=clf_LR.predict(x_pre)\n",
    "\n",
    "print(x_pre,y_pre)"
   ]
  },
  {
   "cell_type": "code",
   "execution_count": null,
   "id": "a4c01cb1",
   "metadata": {},
   "outputs": [],
   "source": [
    "from sklearn.model_selection import KFold, cross_val_score \n",
    "\n",
    "crossvalidation = KFold(n_splits = 10, shuffle = True)\n",
    "mape_scores = cross_val_score(clf_LR, X, Y, scoring = 'neg_mean_absolute_percentage_error', cv = crossvalidation)\n",
    "r2_scores = cross_val_score(clf_LR, X, Y, scoring = 'r2', cv = crossvalidation)\n",
    "rmse_scores = cross_val_score(clf_LR, X, Y, scoring = 'neg_root_mean_squared_error', cv = crossvalidation)\n",
    "print('Cross-validation results:')\n",
    "print('Folds: %i, mean MAPE: %.3f' % (len(mape_scores), -np.mean(mape_scores)))\n",
    "print('Folds: %i, mean R2: %.3f' % (len(r2_scores), np.mean(r2_scores)))\n",
    "print('Folds: %i, mean RMSE: %.3f' % (len(rmse_scores), -np.mean(rmse_scores)))"
   ]
  },
  {
   "cell_type": "code",
   "execution_count": null,
   "id": "813b20d6",
   "metadata": {},
   "outputs": [],
   "source": [
    "from sklearn.model_selection import cross_val_predict\n",
    "y_cv = cross_val_predict(clf_LR, X, Y, cv = crossvalidation)"
   ]
  },
  {
   "cell_type": "code",
   "execution_count": null,
   "id": "6d8a707a",
   "metadata": {},
   "outputs": [],
   "source": [
    "plt.figure(figsize = (5, 5))\n",
    "plt.plot([3, 12], [3, 12], 'r--')\n",
    "plt.scatter(Y, y_cv, s = 80, edgecolor = 'r', alpha = 0.7)"
   ]
  },
  {
   "cell_type": "code",
   "execution_count": null,
   "id": "cdf65b6c",
   "metadata": {},
   "outputs": [],
   "source": [
    "training_temp = (np.array(training_temp).T.tolist())\n",
    "testing_temp = (np.array(testing_temp).T.tolist())\n",
    "\n",
    "paper_result = pd.DataFrame(training_temp)\n",
    "paper_result.to_csv('training_32_LR.csv')\n",
    "testing_result = pd.DataFrame(testing_temp)\n",
    "testing_result.to_csv('testing_32_LR.csv')"
   ]
  },
  {
   "cell_type": "code",
   "execution_count": null,
   "id": "09363c5c",
   "metadata": {},
   "outputs": [],
   "source": [
    "###########################################################  ANN\n",
    "clf_ANN = MLPRegressor(solver='lbfgs',alpha=1e-5,max_iter=1000,random_state=1)\n",
    "clf_ANN.fit(training_X,training_Y)\n",
    "fit_ANN = clf_ANN.predict(training_X)\n",
    "pre_ANN = clf_ANN.predict(testing_X)\n",
    "\n",
    "training_criteria = criteria(fit_ANN, training_Y)\n",
    "testing_criteria = criteria(pre_ANN, testing_Y)\n",
    "print('ANN training',training_criteria)\n",
    "print('ANN testing', testing_criteria)\n",
    "\n",
    "training_temp.append(fit_ANN)\n",
    "testing_temp.append(pre_ANN)\n",
    "\n",
    "x_pre=[]\n",
    "y_pre=[]\n",
    "with open('data_32_2.csv', encoding = 'UTF-8')as f:\n",
    "    names = ['MWc', 'r', 'U', 'MC']\n",
    "    x_pre = read_csv(f, names = names)\n",
    "y_pre=clf_ANN.predict(x_pre)\n",
    "\n",
    "print(x_pre,y_pre)"
   ]
  },
  {
   "cell_type": "code",
   "execution_count": null,
   "id": "d89562d6",
   "metadata": {},
   "outputs": [],
   "source": [
    "from sklearn.model_selection import KFold, cross_val_score \n",
    "\n",
    "crossvalidation = KFold(n_splits = 10, shuffle = True)\n",
    "mape_scores = cross_val_score(clf_ANN, X, Y, scoring = 'neg_mean_absolute_percentage_error', cv = crossvalidation)\n",
    "r2_scores = cross_val_score(clf_ANN, X, Y, scoring = 'r2', cv = crossvalidation)\n",
    "rmse_scores = cross_val_score(clf_ANN, X, Y, scoring = 'neg_root_mean_squared_error', cv = crossvalidation)\n",
    "mae_scores = cross_val_score(clf_ANN, X, Y, scoring = 'neg_mean_absolute_error', cv = crossvalidation)\n",
    "print('Cross-validation results:')\n",
    "print('Folds: %i, mean MAPE: %.3f' % (len(mape_scores), -np.mean(mape_scores)))\n",
    "print('Folds: %i, mean R2: %.3f' % (len(r2_scores), np.mean(r2_scores)))\n",
    "print('Folds: %i, mean RMSE: %.3f' % (len(rmse_scores), -np.mean(rmse_scores)))\n",
    "print('Folds: %i, mean MAE: %.3f' % (len(mae_scores), -np.mean(mae_scores)))"
   ]
  },
  {
   "cell_type": "code",
   "execution_count": null,
   "id": "72b73be7",
   "metadata": {},
   "outputs": [],
   "source": [
    "from sklearn.model_selection import cross_val_predict\n",
    "y_cv = cross_val_predict(clf_ANN, X, Y, cv = crossvalidation)"
   ]
  },
  {
   "cell_type": "code",
   "execution_count": null,
   "id": "dd3204a8",
   "metadata": {},
   "outputs": [],
   "source": [
    "import matplotlib.pyplot as plt\n",
    "plt.figure(figsize = (5, 5))\n",
    "plt.plot([3, 12], [3, 12], 'r--')\n",
    "plt.scatter(Y, y_cv, s = 80, edgecolor = 'r', alpha = 0.7)"
   ]
  },
  {
   "cell_type": "code",
   "execution_count": null,
   "id": "81ca0beb",
   "metadata": {},
   "outputs": [],
   "source": [
    "training_temp = (np.array(training_temp).T.tolist())\n",
    "testing_temp = (np.array(testing_temp).T.tolist())\n",
    "\n",
    "paper_result = pd.DataFrame(training_temp)\n",
    "paper_result.to_csv('training_32_ANN.csv')\n",
    "testing_result = pd.DataFrame(testing_temp)\n",
    "testing_result.to_csv('testing_32_ANN.csv')"
   ]
  },
  {
   "cell_type": "code",
   "execution_count": null,
   "id": "0fb8fb29",
   "metadata": {},
   "outputs": [],
   "source": [
    "###########################################################   SVR\n",
    "clf_SVR = svm.SVR(kernel='rbf',tol=1e-3,C=300,epsilon=0.01,gamma=1)\n",
    "clf_SVR.fit(training_X,training_Y)\n",
    "fit_SVR = clf_SVR.predict(training_X)\n",
    "pre_SVR = clf_SVR.predict(testing_X)\n",
    "\n",
    "training_criteria = criteria(fit_SVR, training_Y)\n",
    "testing_criteria = criteria(pre_SVR, testing_Y)\n",
    "print('SVR training',training_criteria)\n",
    "print('SVR testing', testing_criteria)\n",
    "\n",
    "\n",
    "training_temp.append(fit_SVR)\n",
    "testing_temp.append(pre_SVR)\n",
    "\n",
    "x_pre=[]\n",
    "y_pre=[]\n",
    "with open('data_32_2.csv', encoding = 'UTF-8')as f:\n",
    "    names = ['MWc', 'r', 'U', 'MC']\n",
    "    x_pre = read_csv(f, names = names)\n",
    "y_pre=clf_SVR.predict(x_pre)\n",
    "\n",
    "print(x_pre,y_pre)"
   ]
  },
  {
   "cell_type": "code",
   "execution_count": null,
   "id": "4552f4ec",
   "metadata": {},
   "outputs": [],
   "source": [
    "from sklearn.model_selection import KFold, cross_val_score ####交叉验证\n",
    "\n",
    "crossvalidation = KFold(n_splits = 10, shuffle = True)\n",
    "mape_scores = cross_val_score(clf_SVR, X, Y, scoring = 'neg_mean_absolute_percentage_error', cv = crossvalidation)\n",
    "r2_scores = cross_val_score(clf_SVR, X, Y, scoring = 'r2', cv = crossvalidation)\n",
    "rmse_scores = cross_val_score(clf_SVR, X, Y, scoring = 'neg_root_mean_squared_error', cv = crossvalidation)\n",
    "print('Cross-validation results:')\n",
    "print('Folds: %i, mean MAPE: %.3f' % (len(mape_scores), -np.mean(mape_scores)))\n",
    "print('Folds: %i, mean R2: %.3f' % (len(r2_scores), np.mean(r2_scores)))\n",
    "print('Folds: %i, mean RMSE: %.3f' % (len(rmse_scores), -np.mean(rmse_scores)))"
   ]
  },
  {
   "cell_type": "code",
   "execution_count": null,
   "id": "a0d9fa6b",
   "metadata": {},
   "outputs": [],
   "source": [
    "from sklearn.model_selection import cross_val_predict\n",
    "y_cv = cross_val_predict(clf_SVR, X, Y, cv = crossvalidation)"
   ]
  },
  {
   "cell_type": "code",
   "execution_count": null,
   "id": "b101fb80",
   "metadata": {},
   "outputs": [],
   "source": [
    "import matplotlib.pyplot as plt\n",
    "plt.figure(figsize = (5, 5))\n",
    "plt.plot([3, 12], [3, 12], 'r--')\n",
    "plt.scatter(Y, y_cv, s = 80, edgecolor = 'r', alpha = 0.7)"
   ]
  },
  {
   "cell_type": "code",
   "execution_count": null,
   "id": "04d392db",
   "metadata": {},
   "outputs": [],
   "source": [
    "training_temp = (np.array(training_temp).T.tolist())\n",
    "testing_temp = (np.array(testing_temp).T.tolist())\n",
    "\n",
    "paper_result = pd.DataFrame(training_temp)\n",
    "paper_result.to_csv('training_32_SVR.csv')\n",
    "testing_result = pd.DataFrame(testing_temp)\n",
    "testing_result.to_csv('testing_32_SVR.csv')"
   ]
  },
  {
   "cell_type": "code",
   "execution_count": null,
   "id": "2dad3d61",
   "metadata": {},
   "outputs": [],
   "source": [
    "#########################################################  DT\n",
    "from sklearn import tree\n",
    "\n",
    "clf_DT = tree.DecisionTreeRegressor()#决策树回归实例化\n",
    "clf_DT.fit(training_X,training_Y)#得到模型\n",
    "fit_DT = clf_DT.predict(training_X)\n",
    "pre_DT = clf_DT.predict(testing_X)\n",
    "\n",
    "\n",
    "training_criteria = criteria(fit_DT, training_Y)\n",
    "testing_criteria = criteria(pre_DT, testing_Y)\n",
    "print('DT training',training_criteria)\n",
    "print('DT testing', testing_criteria)\n",
    "\n",
    "training_temp.append(fit_DT)\n",
    "testing_temp.append(pre_DT)\n",
    "\n",
    "x_pre=[]\n",
    "y_pre=[]\n",
    "with open('data_32_2.csv', encoding = 'UTF-8')as f:\n",
    "    names = ['MWc', 'r', 'U', 'MC']\n",
    "    x_pre = read_csv(f, names = names)\n",
    "y_pre=clf_DT.predict(x_pre)\n",
    "\n",
    "print(x_pre,y_pre)"
   ]
  },
  {
   "cell_type": "code",
   "execution_count": null,
   "id": "e3fcb12e",
   "metadata": {},
   "outputs": [],
   "source": [
    "from sklearn.model_selection import KFold, cross_val_score ####交叉验证\n",
    "\n",
    "crossvalidation = KFold(n_splits = 10, shuffle = True)\n",
    "mape_scores = cross_val_score(clf_DT, X, Y, scoring = 'neg_mean_absolute_percentage_error', cv = crossvalidation)\n",
    "r2_scores = cross_val_score(clf_DT, X, Y, scoring = 'r2', cv = crossvalidation)\n",
    "rmse_scores = cross_val_score(clf_DT, X, Y, scoring = 'neg_root_mean_squared_error', cv = crossvalidation)\n",
    "print('Cross-validation results:')\n",
    "print('Folds: %i, mean MAPE: %.3f' % (len(mape_scores), -np.mean(mape_scores)))\n",
    "print('Folds: %i, mean R2: %.3f' % (len(r2_scores), np.mean(r2_scores)))\n",
    "print('Folds: %i, mean RMSE: %.3f' % (len(rmse_scores), -np.mean(rmse_scores)))"
   ]
  },
  {
   "cell_type": "code",
   "execution_count": null,
   "id": "98dfeacb",
   "metadata": {},
   "outputs": [],
   "source": [
    "from sklearn.model_selection import cross_val_predict\n",
    "y_cv = cross_val_predict(clf_DT, X, Y, cv = crossvalidation)"
   ]
  },
  {
   "cell_type": "code",
   "execution_count": null,
   "id": "1d50d9a7",
   "metadata": {},
   "outputs": [],
   "source": [
    "plt.figure(figsize = (5, 5))\n",
    "plt.plot([3, 12], [3, 12], 'r--')\n",
    "plt.scatter(Y, y_cv, s = 80, edgecolor = 'r', alpha = 0.7)"
   ]
  },
  {
   "cell_type": "code",
   "execution_count": null,
   "id": "32c4d05c",
   "metadata": {},
   "outputs": [],
   "source": [
    "training_temp = (np.array(training_temp).T.tolist())\n",
    "testing_temp = (np.array(testing_temp).T.tolist())\n",
    "\n",
    "paper_result = pd.DataFrame(training_temp)\n",
    "paper_result.to_csv('training_32_DT.csv')\n",
    "testing_result = pd.DataFrame(testing_temp)\n",
    "testing_result.to_csv('testing_32_DT.csv')"
   ]
  },
  {
   "cell_type": "markdown",
   "id": "40588ba0",
   "metadata": {},
   "source": [
    "# Bayesian optimization for screening optimal candidate"
   ]
  },
  {
   "cell_type": "code",
   "execution_count": null,
   "id": "efd94869",
   "metadata": {},
   "outputs": [],
   "source": [
    "from sklearn.model_selection import cross_val_score\n",
    "from sklearn.ensemble import RandomForestRegressor\n",
    "import numpy as np\n",
    "import pandas as pd"
   ]
  },
  {
   "cell_type": "code",
   "execution_count": null,
   "id": "e0a98c89",
   "metadata": {},
   "outputs": [],
   "source": [
    "data = pd.read_csv('data_32_7.csv', names = ['MWc', 'r', 'U', 'MC', '|Z|'])\n",
    "data.head()"
   ]
  },
  {
   "cell_type": "code",
   "execution_count": null,
   "id": "36d839cb",
   "metadata": {},
   "outputs": [],
   "source": [
    "y = data['|Z|'].values\n",
    "X = data.drop(['|Z|'], axis = 1)\n",
    "\n",
    "print('There are %s possible descriptor:' % X.shape[1])\n",
    "print('%s' % data.columns.values)"
   ]
  },
  {
   "cell_type": "code",
   "execution_count": null,
   "id": "cfbc3845",
   "metadata": {},
   "outputs": [],
   "source": [
    "from sklearn.model_selection import train_test_split"
   ]
  },
  {
   "cell_type": "code",
   "execution_count": null,
   "id": "fd5c6c79",
   "metadata": {},
   "outputs": [],
   "source": [
    "training_X,testing_X,training_Y,testing_Y = train_test_split(X, y, test_size = 0.2, random_state = 1)\n",
    "print(training_Y)"
   ]
  },
  {
   "cell_type": "code",
   "execution_count": null,
   "id": "d3984902",
   "metadata": {},
   "outputs": [],
   "source": [
    "clf_RF = RandomForestRegressor(n_estimators=2000,min_samples_leaf=1,max_features=2,oob_score=True)\n",
    "clf_RF.fit(X.values, y) "
   ]
  },
  {
   "cell_type": "code",
   "execution_count": null,
   "id": "8df5f753",
   "metadata": {},
   "outputs": [],
   "source": [
    "import GPyOpt"
   ]
  },
  {
   "cell_type": "code",
   "execution_count": null,
   "id": "690532f5",
   "metadata": {},
   "outputs": [],
   "source": [
    "def model(x):\n",
    "    return -clf_RF.predict(x)"
   ]
  },
  {
   "cell_type": "code",
   "execution_count": null,
   "id": "84ccd6e1",
   "metadata": {},
   "outputs": [],
   "source": [
    "bounds = [{'name': 'var_1', 'type':'discrete', 'domain':(400, 2000)},\n",
    "         {'name': 'var_2', 'type':'discrete', 'domain':(0.85, 0.86, 0.87, 0.88, 0.89, 0.90, 0.91, \n",
    "                                                        0.92, 0.93, 0.94, 0.95, 0.96, 0.97, 0.98, 0.99, 1.00)},\n",
    "         {'name': 'var_3', 'type':'discrete', 'domain':(range(10, 21))},\n",
    "         {'name': 'var_4', 'type':'discrete', 'domain':(5.5, 5.6, 5.7, 5.8, 5.9, 6.0, 6.1, 6.2, 6.3, 6.4, 6.5, 6.6, 6.7, 6.8, 6.9, 7.0, 7.1, \n",
    "                                                        7.2, 7.3, 7.4, 7.5, 7.6, 7.7, 7.8, 7.9, 8.0, 8.1, 8.2, 8.3, 8.4, 8.5, 8.6, 8.7, 8.8, \n",
    "                                                        8.9, 9.0, 9.1, 9.2, 9.3, 9.4, 9.5, 9.6, 9.7, 9.8, 9.9, 10)}]"
   ]
  },
  {
   "cell_type": "code",
   "execution_count": null,
   "id": "7f398827",
   "metadata": {},
   "outputs": [],
   "source": [
    "bo = GPyOpt.methods.BayesianOptimization(model, domain = bounds, acquisition_type='EI')"
   ]
  },
  {
   "cell_type": "code",
   "execution_count": null,
   "id": "818b8636",
   "metadata": {},
   "outputs": [],
   "source": [
    "max_iter = 1000"
   ]
  },
  {
   "cell_type": "code",
   "execution_count": null,
   "id": "56503b65",
   "metadata": {},
   "outputs": [],
   "source": [
    "bo.run_optimization(max_iter)"
   ]
  },
  {
   "cell_type": "code",
   "execution_count": null,
   "id": "82a6bd1b",
   "metadata": {},
   "outputs": [],
   "source": [
    "bo.x_opt"
   ]
  },
  {
   "cell_type": "code",
   "execution_count": null,
   "id": "ab5fcd30",
   "metadata": {},
   "outputs": [],
   "source": [
    "bo.fx_opt"
   ]
  },
  {
   "cell_type": "code",
   "execution_count": null,
   "id": "cd4e4566",
   "metadata": {},
   "outputs": [],
   "source": [
    "bo.plot_convergence()"
   ]
  },
  {
   "cell_type": "code",
   "execution_count": null,
   "id": "a57c3471",
   "metadata": {},
   "outputs": [],
   "source": [
    "bo.save_evaluations('test-32-7-LT-1.txt')"
   ]
  },
  {
   "cell_type": "code",
   "execution_count": null,
   "id": "93b1a5c8",
   "metadata": {},
   "outputs": [],
   "source": []
  },
  {
   "cell_type": "code",
   "execution_count": null,
   "id": "729ace47",
   "metadata": {},
   "outputs": [],
   "source": []
  },
  {
   "cell_type": "code",
   "execution_count": null,
   "id": "e3bd21e9",
   "metadata": {},
   "outputs": [],
   "source": []
  },
  {
   "cell_type": "code",
   "execution_count": null,
   "id": "4cec02b7",
   "metadata": {},
   "outputs": [],
   "source": []
  },
  {
   "cell_type": "code",
   "execution_count": null,
   "id": "0a260d1f",
   "metadata": {},
   "outputs": [],
   "source": []
  },
  {
   "cell_type": "code",
   "execution_count": null,
   "id": "48475889",
   "metadata": {},
   "outputs": [],
   "source": []
  },
  {
   "cell_type": "code",
   "execution_count": null,
   "id": "076f1cad",
   "metadata": {},
   "outputs": [],
   "source": []
  },
  {
   "cell_type": "code",
   "execution_count": null,
   "id": "049c3fbe",
   "metadata": {},
   "outputs": [],
   "source": []
  }
 ],
 "metadata": {
  "kernelspec": {
   "display_name": "Python 3",
   "language": "python",
   "name": "python3"
  },
  "language_info": {
   "codemirror_mode": {
    "name": "ipython",
    "version": 3
   },
   "file_extension": ".py",
   "mimetype": "text/x-python",
   "name": "python",
   "nbconvert_exporter": "python",
   "pygments_lexer": "ipython3",
   "version": "3.8.8"
  }
 },
 "nbformat": 4,
 "nbformat_minor": 5
}
